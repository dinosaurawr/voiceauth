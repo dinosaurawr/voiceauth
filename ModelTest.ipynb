{
 "cells": [
  {
   "cell_type": "code",
   "execution_count": 12,
   "metadata": {},
   "outputs": [],
   "source": [
    "from AudioManager import AudioManager\n",
    "from ModelManagerOLD import ModelManager\n",
    "import numpy"
   ]
  },
  {
   "cell_type": "code",
   "execution_count": 18,
   "metadata": {},
   "outputs": [],
   "source": [
    "am = AudioManager()"
   ]
  },
  {
   "cell_type": "code",
   "execution_count": 19,
   "metadata": {},
   "outputs": [],
   "source": [
    "my_series = am.load_last_record()"
   ]
  },
  {
   "cell_type": "code",
   "execution_count": 24,
   "metadata": {
    "collapsed": true
   },
   "outputs": [
    {
     "name": "stdout",
     "output_type": "stream",
     "text": [
      "Loadig sample of japanese female, person: 1, track: 1\n",
      "Loadig sample of japanese female, person: 1, track: 2\n",
      "Loadig sample of japanese female, person: 1, track: 3\n",
      "Loadig sample of japanese female, person: 1, track: 4\n",
      "Loadig sample of french male, person: 1, track: 1\n",
      "Loadig sample of french male, person: 1, track: 2\n",
      "Loadig sample of french female, person: 1, track: 1\n",
      "Loadig sample of french female, person: 1, track: 2\n",
      "Loadig sample of french female, person: 1, track: 3\n",
      "Loadig sample of english male, person: 1, track: 1\n",
      "Loadig sample of english male, person: 2, track: 1\n",
      "Loadig sample of english male, person: 2, track: 2\n",
      "Loadig sample of english male, person: 2, track: 3\n",
      "Loadig sample of russian male, person: 1, track: 1\n",
      "Loadig sample of russian male, person: 1, track: 2\n",
      "Train on 148 samples, validate on 37 samples\n",
      "Epoch 1/15\n",
      "148/148 [==============================] - 1s 6ms/step - loss: 0.6053 - accuracy: 0.6959 - val_loss: 0.2525 - val_accuracy: 0.9459\n",
      "Epoch 2/15\n",
      "148/148 [==============================] - 0s 1ms/step - loss: 0.2522 - accuracy: 0.9257 - val_loss: 0.1454 - val_accuracy: 0.9459\n",
      "Epoch 3/15\n",
      "148/148 [==============================] - 0s 1ms/step - loss: 0.1801 - accuracy: 0.9459 - val_loss: 0.0440 - val_accuracy: 1.0000\n",
      "Epoch 4/15\n",
      "148/148 [==============================] - 0s 1ms/step - loss: 0.3066 - accuracy: 0.9392 - val_loss: 0.0352 - val_accuracy: 1.0000\n",
      "Epoch 5/15\n",
      "148/148 [==============================] - 0s 1ms/step - loss: 0.1346 - accuracy: 0.9527 - val_loss: 0.0551 - val_accuracy: 1.0000\n",
      "Epoch 6/15\n",
      "148/148 [==============================] - 0s 1ms/step - loss: 0.0710 - accuracy: 0.9595 - val_loss: 0.0102 - val_accuracy: 1.0000\n",
      "Epoch 7/15\n",
      "148/148 [==============================] - 0s 2ms/step - loss: 0.0314 - accuracy: 0.9932 - val_loss: 0.0015 - val_accuracy: 1.0000\n",
      "Epoch 8/15\n",
      "148/148 [==============================] - 0s 1ms/step - loss: 0.1058 - accuracy: 0.9932 - val_loss: 0.0000e+00 - val_accuracy: 1.0000\n",
      "Epoch 9/15\n",
      "148/148 [==============================] - 0s 1ms/step - loss: 0.1446 - accuracy: 0.9797 - val_loss: 0.0000e+00 - val_accuracy: 1.0000\n",
      "Epoch 10/15\n",
      "148/148 [==============================] - 0s 1ms/step - loss: 0.1236 - accuracy: 0.9932 - val_loss: 0.0232 - val_accuracy: 0.9730\n",
      "Epoch 11/15\n",
      "148/148 [==============================] - 0s 1ms/step - loss: 0.0567 - accuracy: 0.9662 - val_loss: 0.0219 - val_accuracy: 1.0000\n",
      "Epoch 12/15\n",
      "148/148 [==============================] - 0s 1ms/step - loss: 0.0621 - accuracy: 0.9730 - val_loss: 0.0389 - val_accuracy: 0.9730\n",
      "Epoch 13/15\n",
      "148/148 [==============================] - 0s 1ms/step - loss: 0.0383 - accuracy: 0.9932 - val_loss: 0.0141 - val_accuracy: 1.0000\n",
      "Epoch 14/15\n",
      "148/148 [==============================] - 0s 2ms/step - loss: 0.0236 - accuracy: 0.9932 - val_loss: 0.0020 - val_accuracy: 1.0000\n",
      "Epoch 15/15\n",
      "148/148 [==============================] - 0s 2ms/step - loss: 0.0158 - accuracy: 0.9932 - val_loss: 5.7597e-04 - val_accuracy: 1.0000\n",
      "185/185 [==============================] - 0s 377us/step\n",
      "[0.004572836742295909, 1.0]\n"
     ]
    }
   ],
   "source": [
    "my_model = ModelManager(target_series=my_series, target_series_name='AleksandrKryukov')"
   ]
  },
  {
   "cell_type": "code",
   "execution_count": 29,
   "metadata": {},
   "outputs": [],
   "source": [
    "result = my_model.get_prediction_result(my_series)"
   ]
  },
  {
   "cell_type": "code",
   "execution_count": 51,
   "metadata": {},
   "outputs": [
    {
     "data": {
      "text/plain": [
       "(11.742114596523825, 11)"
      ]
     },
     "execution_count": 51,
     "metadata": {},
     "output_type": "execute_result"
    }
   ],
   "source": [
    "1 / numpy.sum(result) * 100, len(result)"
   ]
  },
  {
   "cell_type": "code",
   "execution_count": 26,
   "metadata": {},
   "outputs": [
    {
     "name": "stdout",
     "output_type": "stream",
     "text": [
      "Recording\n",
      "Finished recording, saving...\n"
     ]
    }
   ],
   "source": [
    "am.record_sample()"
   ]
  },
  {
   "cell_type": "code",
   "execution_count": 43,
   "metadata": {},
   "outputs": [],
   "source": [
    "my_series2 = am.load_last_record()"
   ]
  },
  {
   "cell_type": "code",
   "execution_count": 47,
   "metadata": {},
   "outputs": [
    {
     "data": {
      "text/plain": [
       "(26317, 37518)"
      ]
     },
     "execution_count": 47,
     "metadata": {},
     "output_type": "execute_result"
    }
   ],
   "source": [
    "len(my_series), len(my_series2)"
   ]
  },
  {
   "cell_type": "code",
   "execution_count": 34,
   "metadata": {},
   "outputs": [],
   "source": [
    "result2 = my_model.get_prediction_result(my_series2)"
   ]
  },
  {
   "cell_type": "code",
   "execution_count": 52,
   "metadata": {},
   "outputs": [
    {
     "data": {
      "text/plain": [
       "(8.361467345912557, 11)"
      ]
     },
     "execution_count": 52,
     "metadata": {},
     "output_type": "execute_result"
    }
   ],
   "source": [
    "1 / numpy.sum(result2) * 100, len(result)"
   ]
  },
  {
   "cell_type": "code",
   "execution_count": 53,
   "metadata": {},
   "outputs": [
    {
     "name": "stdout",
     "output_type": "stream",
     "text": [
      "Recording\n",
      "Finished recording, saving...\n"
     ]
    }
   ],
   "source": [
    "am.record_sample()\n"
   ]
  },
  {
   "cell_type": "code",
   "execution_count": 54,
   "metadata": {},
   "outputs": [],
   "source": [
    "other_series = am.load_last_record()"
   ]
  },
  {
   "cell_type": "code",
   "execution_count": 55,
   "metadata": {},
   "outputs": [],
   "source": [
    "result3 = my_model.get_prediction_result(other_series)"
   ]
  },
  {
   "cell_type": "code",
   "execution_count": 57,
   "metadata": {},
   "outputs": [
    {
     "data": {
      "text/plain": [
       "array([[0.        ],\n",
       "       [0.        ],\n",
       "       [0.        ],\n",
       "       [0.        ],\n",
       "       [0.        ],\n",
       "       [0.02740517],\n",
       "       [0.        ],\n",
       "       [0.        ]], dtype=float32)"
      ]
     },
     "execution_count": 57,
     "metadata": {},
     "output_type": "execute_result"
    }
   ],
   "source": [
    "result3"
   ]
  },
  {
   "cell_type": "code",
   "execution_count": 58,
   "metadata": {},
   "outputs": [
    {
     "name": "stdout",
     "output_type": "stream",
     "text": [
      "Recording\n",
      "Finished recording, saving...\n"
     ]
    }
   ],
   "source": [
    "am.record_sample()"
   ]
  },
  {
   "cell_type": "code",
   "execution_count": 59,
   "metadata": {},
   "outputs": [],
   "source": [
    "other_series2 = am.load_last_record()"
   ]
  },
  {
   "cell_type": "code",
   "execution_count": 60,
   "metadata": {},
   "outputs": [
    {
     "data": {
      "text/plain": [
       "array([[0.941172  ],\n",
       "       [1.        ],\n",
       "       [0.9824755 ],\n",
       "       [0.9985688 ],\n",
       "       [0.97189546],\n",
       "       [0.        ],\n",
       "       [0.01710624]], dtype=float32)"
      ]
     },
     "execution_count": 60,
     "metadata": {},
     "output_type": "execute_result"
    }
   ],
   "source": [
    "my_model.get_prediction_result(other_series2)"
   ]
  },
  {
   "cell_type": "code",
   "execution_count": null,
   "metadata": {},
   "outputs": [],
   "source": []
  }
 ],
 "metadata": {
  "kernelspec": {
   "display_name": "Python 3",
   "language": "python",
   "name": "python3"
  },
  "language_info": {
   "codemirror_mode": {
    "name": "ipython",
    "version": 3
   },
   "file_extension": ".py",
   "mimetype": "text/x-python",
   "name": "python",
   "nbconvert_exporter": "python",
   "pygments_lexer": "ipython3",
   "version": "3.7.7"
  }
 },
 "nbformat": 4,
 "nbformat_minor": 4
}
